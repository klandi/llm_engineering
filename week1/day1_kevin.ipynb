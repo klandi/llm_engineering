{
 "cells": [
  {
   "cell_type": "code",
   "execution_count": 1,
   "id": "cff8e934-463c-4fec-a3b9-dc6603098cf0",
   "metadata": {},
   "outputs": [],
   "source": [
    "import os\n",
    "import requests\n",
    "from dotenv import load_dotenv\n",
    "from bs4 import BeautifulSoup\n",
    "from IPython.display import Markdown, display\n",
    "from openai import OpenAI"
   ]
  },
  {
   "cell_type": "code",
   "execution_count": 3,
   "id": "41b637aa-02b9-49dd-9ffc-fe549b53c952",
   "metadata": {},
   "outputs": [],
   "source": [
    "load_dotenv()\n",
    "os.environ['OPENAI_API_KEY'] = os.getenv('OPENAI_API_KEY', 'your_key_if_not_set_in_env')\n",
    "openai = OpenAI()"
   ]
  },
  {
   "cell_type": "code",
   "execution_count": 5,
   "id": "dc7b4ebf-c053-48ea-9b9a-fa32f4119449",
   "metadata": {},
   "outputs": [],
   "source": [
    "class Website:\n",
    "    url: str\n",
    "    title: str\n",
    "    text: str\n",
    "\n",
    "    def __init__(self, url):\n",
    "        self.url = url\n",
    "        response = requests.get(url)\n",
    "        soup = BeautifulSoup(response.content, 'html.parser')\n",
    "        self.title = soup.title.string if soup.title else 'No Title found'\n",
    "        for irrelevant in soup.body([\"script\", \"style\", \"img\", \"input\"]):\n",
    "            irrelevant.decompose()\n",
    "        self.text = soup.body.get_text(separator=\"\\n\", strip=True)\n",
    "    "
   ]
  },
  {
   "cell_type": "code",
   "execution_count": 7,
   "id": "8bb63189-6379-474a-9787-584310c066ef",
   "metadata": {},
   "outputs": [
    {
     "name": "stdout",
     "output_type": "stream",
     "text": [
      "Logical Tech Solutions - Softwware and Technologies made easy.\n",
      "LTS\n",
      "Home\n",
      "services\n",
      "Why\n",
      "Our Works\n",
      "Testimonial\n",
      "Clients\n",
      "Contact\n",
      "Close Menu\n",
      "logical tech solutions\n",
      "Ultimate Solutions for Large and Small Businesses\n",
      "Every type of business has a need to get their business involved with\n",
      "technoloy.  Whether is custom development, social media integration or\n",
      "anything else related to it, we are here to help you the easy way.\n",
      "Download\n",
      "Learn More\n",
      "We Promise You'll Be Impressed With Logical Tech Solutions\n",
      "No Tech Talk just straight talk to make sure you get what you pay for\n",
      "Download\n",
      "Finally Tech Guys you can talk to\n",
      "We offer a wide variaty of services related to your technology requirements\n",
      "Download\n",
      "Learn More\n",
      "App Features\n",
      "Who seeks after it and wants to have it\n",
      "Content Writing\n",
      "Providing timely and professional content for your business needs.\n",
      "Web Development\n",
      "You need a site, don't do the free pre-build site that will cost you money and headaches in the long run.\n",
      "UI/UX Design\n",
      "User experience is what technology is all about, no matter is it is a smartphone, tablet or website.\n",
      "App Development\n",
      "We build all custom apps that fit your particular business needs.  At the end the code is all yours. No strings attahced.\n",
      "Digital Marketing\n",
      "We work with the digital marketers in NYC.  We know how to market you efficiently and on a budget.\n",
      "Graphic Design\n",
      "We all love graphics, give us your idea and we will put it into a unique image.\n",
      "This is Why You Will\n",
      "Love Logical Tech Solutions\n",
      "We love technology and everything that is related to it.\n",
      "our work has brought expertise in the areas of aerospace, book publishing,\n",
      "P2P communications, intent-based marketing, credit card processing,\n",
      "data analytics, television among others.\n",
      "Friendly and professional staff\n",
      "Fast, reliable solutions\n",
      "Budget conscious and deadline aware\n",
      "Refreshing Ideas\n",
      "You own your content and code\n",
      "Downoad Now!\n",
      "Our Mission To The End\n",
      "Provide the best solution to our clients that will allow them to grow in their area of business.  Our love\n",
      "                    for techonologies will bring us to investigate, keep up our skills and gather more expertise to pass down\n",
      "                    to our projects so the customer gets the best option available for them.  We do not promise to be the cheapest\n",
      "                    solution, but certainly the most honest and good-faith proposal that we can provide.\n",
      "Our intention is that you have a place where you can talk to technology/developer people and not feel like they are taking you for a ride but instead a group of people that have the best intentions at hand for your business and future.\n",
      "We Are Progressing Rapidly\n",
      "Techonology changes really fast these days and so do we.  We are constanly updating our skills and knowledge\n",
      "                    to bring you the best modern techonlogy offers.  If we don't know it we will learn it and apply it to your\n",
      "                    project / business.  The better we are the better you are.\n",
      "Our blog will illustrate how we are digging into how technology is heading to so you can be a better inform client.\n",
      "The devil is in the details\n",
      "We will give you all the information available for your project with complete transparency and documentation.\n",
      "                    At any point you will know what, how, where of your project with all the information you need available 24/7\n",
      "If a tech disaster arises, no need to worry, we got you cover with disaster recovery solutions and backup of your projects.\n",
      "SO WHAT YOU THINK ?\n",
      "Contact Us\n",
      "Our Works\n",
      "Some Clients we do business with\n",
      "Portfolio 1\n",
      "Acronym - Intent-Based Marketing\n",
      "Portfolio 2\n",
      "Bio Products Inc.\n",
      "Portfolio 3\n",
      "Akkadian Labs\n",
      "Portfolio 4\n",
      "Time Warner Inc.\n",
      "Portfolio 5\n",
      "Harper Collins Publishers\n",
      "Portfolio 6\n",
      "American Express Corp.\n",
      "Other services\n",
      "Who seeks after it and wants to have it\n",
      "Customization\n",
      "There are no two people alike in the world, same applies to businesses.  We understand that and we provide customization for all your needs.\n",
      "Security\n",
      "Cyber crimes and hacking is an issue that can affect anyone in any size of business.  We take securing all of your systems seriously.\n",
      "Cloud\n",
      "We have extensive experience setting up and maintaing servers and sites on the cloud.  If you need to find more about it, talk to us!\n",
      "Analytics\n",
      "Our experience includes analysis of multiple type of businesses data.  Collecting, processing and reporting on Terrabytes of data.\n",
      "Performance\n",
      "If data response performance is a critical issue for your business, we got the knowledge to make everything much faster. Let us prove it to you.\n",
      "Network\n",
      "Network connectivity is a must for small, medium and large companies.  Let us help you get this done the best way.\n",
      "Support\n",
      "We have support that fit your business needs and budget.  No need to stick to expensive support that you don't take advantage of it when you really need it.\n",
      "Easy\n",
      "Honestly our goal is to make your life easier in the technology area at an affordable price and without the hassle of complicate contracts.\n",
      "What People Says\n",
      "Making a (positive) impact in peoples daily work life is our goal.\n",
      "Our experience with Logical Tech Solutions was great, their professionalism and drive took us to a higher level of technology integration that we were looking for but could not get to it until they joined us.\n",
      "IT Principal Manager\n",
      "BIO Products Inc.\n",
      "Very knowledgeable people.  Their work surpass our expectations, certainly will keep them in the short list of available vendors for our technologies needs.\n",
      "Integrations Director\n",
      "Mindshare\n",
      "Logical Tech Solutions was able to deliver on time and under budget the product that we needed. Their expertise and experience made a valuable asset to multiple of our business departments.\n",
      "Vice President of Product Development\n",
      "Akkadian Labs\n",
      "18\n",
      "Project Launched\n",
      "35\n",
      "Happy Clients\n",
      "50\n",
      "Coffee Cups A week\n",
      "360\n",
      "Star Quality\n",
      "Clients\n",
      "Providing the best servive at a competitive price.\n",
      "That's Where We Are\n",
      "Location\n",
      "Miami, Florida, United States\n",
      "Email\n",
      "info@logicaltechsolutions.com\n",
      "Phone Number\n",
      "646-374-1320\n",
      "Social Media\n",
      "@LogicalTechSolutions\n",
      "Love to Hear From You\n",
      "Send Message\n",
      "Products\n",
      "Custom Web Apps\n",
      "Data Analytics\n",
      "AI System\n",
      "Luminial\n",
      "Factxion\n",
      "FAQs\n",
      "Why choose us?\n",
      "Where we are?\n",
      "Fees\n",
      "Guarantee\n",
      "Discount\n",
      "About\n",
      "Career\n",
      "Partners\n",
      "Team\n",
      "Clients\n",
      "Contact\n",
      "Find us on\n",
      "© Logical Tech Solutions LLC\n",
      "All Rights Reserved.\n"
     ]
    }
   ],
   "source": [
    "kevin = Website(\"https://logicaltechsolutions.com\")\n",
    "print(kevin.title)\n",
    "print(kevin.text)"
   ]
  },
  {
   "cell_type": "code",
   "execution_count": 9,
   "id": "2925ef89-3cf5-405c-8607-ae1c3c1d529f",
   "metadata": {},
   "outputs": [],
   "source": [
    "system_prompt = \"You are an assistant that analyzes the contents of a website, and provides a short summary, ignoring text that might be navigation related.  Respond in markdown\""
   ]
  },
  {
   "cell_type": "code",
   "execution_count": 11,
   "id": "c779dee7-0ff8-45ea-9f1c-f53a16fa6f63",
   "metadata": {},
   "outputs": [],
   "source": [
    "def user_prompt_for(website):\n",
    "    user_prompt = f'You are looking for a website title {website.title}'\n",
    "    user_prompt += ' The content of this website is as follows; please provide a short summary of this websote in markdown.  If it includes news or announcements, then summarize these too.'\n",
    "    user_prompt += website.text\n",
    "    return user_prompt\n",
    "    "
   ]
  },
  {
   "cell_type": "code",
   "execution_count": 13,
   "id": "5b382101-6b19-4fcc-8b6c-159dcad80d12",
   "metadata": {},
   "outputs": [],
   "source": [
    "def messages_for(website):\n",
    "    return [\n",
    "        {\"role\": \"system\", \"content\": system_prompt},\n",
    "        {\"role\": \"user\", \"content\": user_prompt_for(website)}\n",
    "    ]"
   ]
  },
  {
   "cell_type": "code",
   "execution_count": 15,
   "id": "07441938-2b7b-4260-a001-88a5216d2b54",
   "metadata": {},
   "outputs": [],
   "source": [
    "def summarize(url):\n",
    "    website = Website(url)\n",
    "    response = openai.chat.completions.create(\n",
    "        model = \"gpt-4o-mini\",\n",
    "        messages = messages_for(website)\n",
    "    )\n",
    "    return response.choices[0].message.content"
   ]
  },
  {
   "cell_type": "code",
   "execution_count": 20,
   "id": "0bc0eaa9-4357-461a-ab89-d2febe444092",
   "metadata": {},
   "outputs": [
    {
     "data": {
      "text/plain": [
       "'# Website Summary - Edward Donner\\n\\nThe website of Edward Donner offers insights into his interests and projects focused on coding, LLMs (Large Language Models), and AI. He is the co-founder and CTO of Nebula.io, a company applying AI to talent discovery and engagement. The site highlights his experience as the founder and CEO of the AI startup untapt, which was acquired in 2021.\\n\\n## Recent Posts\\n- **August 6, 2024:** Introduction to \"Outsmart,\" an arena for LLMs where they compete in diplomacy and strategy.\\n- **June 26, 2024:** Resources and guidance for selecting the right LLM.\\n- **February 7, 2024:** A guide on fine-tuning LLMs using personal texts.\\n- **January 31, 2024:** Continued exploration of fine-tuning LLMs with a focus on QLoRA.\\n\\nEdward invites connections and interactions, emphasizing his passion for AI and LLM technologies.'"
      ]
     },
     "execution_count": 20,
     "metadata": {},
     "output_type": "execute_result"
    }
   ],
   "source": [
    "summarize(\"https://edwarddonner.com\")"
   ]
  },
  {
   "cell_type": "code",
   "execution_count": 21,
   "id": "28eae846-c080-4619-8c19-15977eeb2bba",
   "metadata": {},
   "outputs": [],
   "source": [
    "def display_summary(url):\n",
    "    summary = summarize(url)\n",
    "    display(Markdown(summary))"
   ]
  },
  {
   "cell_type": "code",
   "execution_count": 22,
   "id": "71fc55eb-2f04-49fc-96cc-0eebaebf2dbb",
   "metadata": {},
   "outputs": [
    {
     "data": {
      "text/markdown": [
       "# Summary of Home - Edward Donner\n",
       "\n",
       "Edward Donner's website showcases his passion for coding and experimenting with Large Language Models (LLMs). He introduces himself as a co-founder and CTO of Nebula.io, a company that utilizes AI to enhance talent discovery and management. With a background as the founder of the AI startup untapt, acquired in 2021, he offers insights into his work with proprietary LLMs tailored for talent acquisition.\n",
       "\n",
       "## Recent Posts\n",
       "- **August 6, 2024**: Announcement of the \"Outsmart LLM Arena\", which features LLMs competing in a challenge of diplomacy and cunning.\n",
       "- **June 26, 2024**: Guidance on choosing the appropriate LLM, providing tools and resources.\n",
       "- **February 7, 2024**: A post on simulating personalized interaction by fine-tuning an LLM using personal texts.\n",
       "- **January 31, 2024**: Continued discussion on fine-tuning LLMs, specifically focusing on QLoRA in part 4 of the series.\n",
       "\n",
       "The website serves as a platform for sharing knowledge and developments in the field of AI and LLMs, inviting readers to connect and engage with his content."
      ],
      "text/plain": [
       "<IPython.core.display.Markdown object>"
      ]
     },
     "metadata": {},
     "output_type": "display_data"
    }
   ],
   "source": [
    "display_summary(\"https://edwarddonner.com\")"
   ]
  },
  {
   "cell_type": "code",
   "execution_count": null,
   "id": "f4856c01-0802-4795-b8c9-75f7ff3775f8",
   "metadata": {},
   "outputs": [],
   "source": []
  }
 ],
 "metadata": {
  "kernelspec": {
   "display_name": "Python 3 (ipykernel)",
   "language": "python",
   "name": "python3"
  },
  "language_info": {
   "codemirror_mode": {
    "name": "ipython",
    "version": 3
   },
   "file_extension": ".py",
   "mimetype": "text/x-python",
   "name": "python",
   "nbconvert_exporter": "python",
   "pygments_lexer": "ipython3",
   "version": "3.11.5"
  }
 },
 "nbformat": 4,
 "nbformat_minor": 5
}
