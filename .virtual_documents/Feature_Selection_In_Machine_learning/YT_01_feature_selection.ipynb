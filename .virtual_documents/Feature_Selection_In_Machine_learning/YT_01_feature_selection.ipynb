import pandas as pd
import numpy as np
import matplotlib.pyplot as plt

from sklearn.datasets import load_wine

%matplotlib inline


plt.rcParams["figure.figsize"] = (12, 9)





wine_data = load_wine()

wine_df = pd.DataFrame(
    data=wine_data.data,
    columns=wine_data.feature_names
)

wine_df['target'] = wine_data.target

wine_df.head()


from seaborn import swarmplot

data_to_plot = pd.melt(wine_df[['alcohol', 'malic_acid','alcalinity_of_ash','target']],
                        id_vars='target',
                        var_name='features',
                        value_name='value')

swarmplot(data=data_to_plot, x='features', y='value', hue='target');



